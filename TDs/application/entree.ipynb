{
 "cells": [
  {
   "cell_type": "code",
   "execution_count": 3,
   "id": "26e1f876",
   "metadata": {},
   "outputs": [
    {
     "name": "stdout",
     "output_type": "stream",
     "text": [
      "Requirement already satisfied: xmltodict in c:\\users\\mehdi\\.conda\\envs\\virt_test\\lib\\site-packages (0.12.0)\n"
     ]
    },
    {
     "name": "stderr",
     "output_type": "stream",
     "text": [
      "\n",
      "[notice] A new release of pip available: 22.3.1 -> 23.3.1\n",
      "[notice] To update, run: python.exe -m pip install --upgrade pip\n"
     ]
    }
   ],
   "source": [
    "%load_ext autoreload\n",
    "%autoreload 2\n",
    "!pip install xmltodict\n"
   ]
  },
  {
   "cell_type": "code",
   "execution_count": 4,
   "id": "71d04eaf",
   "metadata": {},
   "outputs": [],
   "source": [
    "from IPython.display import display"
   ]
  },
  {
   "cell_type": "code",
   "execution_count": 5,
   "id": "834d2e42",
   "metadata": {},
   "outputs": [
    {
     "data": {
      "application/vnd.jupyter.widget-view+json": {
       "model_id": "139300d747334137a41e52dbedacac76",
       "version_major": 2,
       "version_minor": 0
      },
      "text/plain": [
       "VBox(children=(Text(value='', description='Nom de la recheche'), Text(value='', description='Séquence de reche…"
      ]
     },
     "execution_count": 5,
     "metadata": {},
     "output_type": "execute_result"
    }
   ],
   "source": [
    "import ipywidgets as widgets\n",
    "from IPython.display import display, clear_output\n",
    "from Fonctions_Acquisition_Donnees import *\n",
    "from Classes import *\n",
    "\n",
    "\n",
    "\n",
    "# Fonction de rappel pour le bouton\n",
    "def on_bouton_executer_clicked(b):\n",
    "    with output:\n",
    "        clear_output(wait=True)  # Efface les anciens résultats\n",
    "        try:\n",
    "            if mot_cle_widget.value.strip() == '' or nom_corpus_widget.value.strip() == '' :\n",
    "                print(\"Veuillez entrer un mot-clé de recherche et attribuer un nom au resulat de la recherche.\")\n",
    "                return\n",
    "            print(f\"Recherche avec le mot-clé: '{mot_cle_widget.value}' pour {nombre_articles_widget.value} articles\")\n",
    "            resultat = appliquer_recherche(nom_corpus_widget.value, mot_cle_widget.value, nombre_articles_widget.value)\n",
    "            display(resultat)\n",
    "        except Exception as e:\n",
    "            print(f\"Une erreur s'est produite: {e}\")\n",
    "\n",
    "# Widgets\n",
    "\n",
    "nom_corpus_widget = widgets.Text(\n",
    "    value='',\n",
    "    description='Nom de la recheche',\n",
    "    disabled=False\n",
    ")\n",
    "mot_cle_widget = widgets.Text(\n",
    "    value='',\n",
    "    description='Séquence de recherche:',\n",
    "    disabled=False\n",
    ")\n",
    "\n",
    "nombre_articles_widget = widgets.IntSlider(\n",
    "    value=100,\n",
    "    min=0,\n",
    "    max=200,\n",
    "    step=10,\n",
    "    description='Volume extraction:',\n",
    "    disabled=False,\n",
    "    continuous_update=False,\n",
    "    orientation='horizontal',\n",
    "    readout=True,\n",
    "    readout_format='d'\n",
    ")\n",
    "\n",
    "bouton_executer = widgets.Button(\n",
    "    description='Exécuter',\n",
    "    disabled=False,\n",
    "    button_style='info',\n",
    "    tooltip='Cliquer ici pour lancer la recherche',\n",
    "    icon='search'\n",
    ")\n",
    "\n",
    "# Zone d'affichage des résultats\n",
    "output = widgets.Output()\n",
    "\n",
    "# Configuration des événements\n",
    "bouton_executer.on_click(on_bouton_executer_clicked)\n",
    "\n",
    "# Mise en page\n",
    "widgets.VBox([nom_corpus_widget,mot_cle_widget, nombre_articles_widget, bouton_executer, output])\n"
   ]
  },
  {
   "cell_type": "code",
   "execution_count": 10,
   "id": "9d8b62c9",
   "metadata": {},
   "outputs": [],
   "source": [
    "corpus_python = Corpus.load('data/python2.pkl')"
   ]
  },
  {
   "cell_type": "code",
   "execution_count": 14,
   "id": "beb05f57",
   "metadata": {},
   "outputs": [
    {
     "name": "stdout",
     "output_type": "stream",
     "text": [
      "                                             Document     Score\n",
      "14  Pydelay - a python tool for solving delay diff...  0.255322\n",
      "41   GAP-Gen: Guided Automatic Python Code Generation  0.244064\n",
      "1   Making Python Code Idiomatic by Automatic Refa...  0.231885\n",
      "94  Does Python Smell Like Java? Tool Support for ...  0.219376\n",
      "8   Teddy: Automatic Recommendation of Pythonic Id...  0.203426\n",
      "43  Faster or Slower? Performance Mystery of Pytho...  0.183012\n",
      "24  Conflict-aware Inference of Python Compatible ...  0.132715\n",
      "98  Garbage Collection in JyNI - How to bridge Mar...  0.130259\n",
      "83  Scalene: Scripting-Language Aware Profiling fo...  0.118692\n",
      "36  DockerizeMe: Automatic Inference of Environmen...  0.102734\n"
     ]
    }
   ],
   "source": [
    "mot_cle = \"code classe compile\"\n",
    "resultats = corpus_python.rechercher_documents(mot_cle)\n",
    "print(resultats.head(10))  # Afficher les 10 premiers résultats"
   ]
  },
  {
   "cell_type": "code",
   "execution_count": 19,
   "id": "577c25d1",
   "metadata": {},
   "outputs": [],
   "source": [
    "vocabulaire = corpus_python.construire_vocabulaire()"
   ]
  },
  {
   "cell_type": "code",
   "execution_count": 20,
   "id": "3addd680",
   "metadata": {},
   "outputs": [
    {
     "data": {
      "text/plain": [
       "3205"
      ]
     },
     "execution_count": 20,
     "metadata": {},
     "output_type": "execute_result"
    }
   ],
   "source": [
    "len(vocabulaire)"
   ]
  },
  {
   "cell_type": "code",
   "execution_count": 34,
   "id": "70f6a8bb",
   "metadata": {},
   "outputs": [],
   "source": []
  },
  {
   "cell_type": "code",
   "execution_count": 41,
   "id": "06161a06",
   "metadata": {},
   "outputs": [
    {
     "data": {
      "text/plain": [
       "Index(['highaccuracy', 'purepython', 'rust', 'optimal', 'tonight',\n",
       "       'transferred', 'platforms', 'variable', 'them', 'interlinking',\n",
       "       ...\n",
       "       'towards', 'suffers', 'sees', 'ground', 'fci', 'ontology', 'involved',\n",
       "       'arrays', 'heterogeneous', 'among'],\n",
       "      dtype='object', length=3205)"
      ]
     },
     "execution_count": 41,
     "metadata": {},
     "output_type": "execute_result"
    }
   ],
   "source": []
  },
  {
   "cell_type": "code",
   "execution_count": 2,
   "id": "5816224f",
   "metadata": {},
   "outputs": [
    {
     "name": "stdout",
     "output_type": "stream",
     "text": [
      "Collecting scikit-learn\n",
      "  Downloading scikit_learn-1.3.2-cp310-cp310-win_amd64.whl (9.3 MB)\n",
      "     ---------------------------------------- 9.3/9.3 MB 10.2 MB/s eta 0:00:00\n",
      "Collecting joblib>=1.1.1\n",
      "  Downloading joblib-1.3.2-py3-none-any.whl (302 kB)\n",
      "     -------------------------------------- 302.2/302.2 kB 6.2 MB/s eta 0:00:00\n",
      "Collecting scipy>=1.5.0\n",
      "  Downloading scipy-1.11.4-cp310-cp310-win_amd64.whl (44.1 MB)\n",
      "     ---------------------------------------- 44.1/44.1 MB 7.1 MB/s eta 0:00:00\n",
      "Requirement already satisfied: numpy<2.0,>=1.17.3 in c:\\users\\mehdi\\appdata\\roaming\\python\\python310\\site-packages (from scikit-learn) (1.23.3)\n",
      "Collecting threadpoolctl>=2.0.0\n",
      "  Using cached threadpoolctl-3.2.0-py3-none-any.whl (15 kB)\n",
      "Installing collected packages: threadpoolctl, scipy, joblib, scikit-learn\n",
      "Successfully installed joblib-1.3.2 scikit-learn-1.3.2 scipy-1.11.4 threadpoolctl-3.2.0\n"
     ]
    },
    {
     "name": "stderr",
     "output_type": "stream",
     "text": [
      "\n",
      "[notice] A new release of pip available: 22.3.1 -> 23.3.1\n",
      "[notice] To update, run: python.exe -m pip install --upgrade pip\n"
     ]
    }
   ],
   "source": [
    "! pip install scikit-learn"
   ]
  }
 ],
 "metadata": {
  "kernelspec": {
   "display_name": "Python 3 (ipykernel)",
   "language": "python",
   "name": "python3"
  },
  "language_info": {
   "codemirror_mode": {
    "name": "ipython",
    "version": 3
   },
   "file_extension": ".py",
   "mimetype": "text/x-python",
   "name": "python",
   "nbconvert_exporter": "python",
   "pygments_lexer": "ipython3",
   "version": "3.10.13"
  }
 },
 "nbformat": 4,
 "nbformat_minor": 5
}
